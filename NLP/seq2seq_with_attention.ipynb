{
  "nbformat": 4,
  "nbformat_minor": 0,
  "metadata": {
    "colab": {
      "provenance": [],
      "collapsed_sections": [],
      "authorship_tag": "ABX9TyMZa1GIIuxVOWgDDcYZjUbG",
      "include_colab_link": true
    },
    "kernelspec": {
      "name": "python3",
      "display_name": "Python 3"
    },
    "language_info": {
      "name": "python"
    },
    "accelerator": "GPU",
    "gpuClass": "standard"
  },
  "cells": [
    {
      "cell_type": "markdown",
      "metadata": {
        "id": "view-in-github",
        "colab_type": "text"
      },
      "source": [
        "<a href=\"https://colab.research.google.com/github/sindhu213/Pytorch/blob/main/NLP/seq2seq_with_attention.ipynb\" target=\"_parent\"><img src=\"https://colab.research.google.com/assets/colab-badge.svg\" alt=\"Open In Colab\"/></a>"
      ]
    },
    {
      "cell_type": "code",
      "execution_count": 1,
      "metadata": {
        "colab": {
          "base_uri": "https://localhost:8080/"
        },
        "id": "_G_SDm9w_ZDG",
        "outputId": "632c9ffe-09c1-433e-b8c8-d14619d2a2ff"
      },
      "outputs": [
        {
          "output_type": "stream",
          "name": "stdout",
          "text": [
            "Drive already mounted at /content/drive; to attempt to forcibly remount, call drive.mount(\"/content/drive\", force_remount=True).\n"
          ]
        }
      ],
      "source": [
        "from google.colab import drive\n",
        "drive.mount('/content/drive')"
      ]
    },
    {
      "cell_type": "markdown",
      "source": [
        "## Task: Translate from English to Hindi"
      ],
      "metadata": {
        "id": "LciAEJjz5Jlk"
      }
    },
    {
      "cell_type": "code",
      "source": [
        "import re\n",
        "import torch\n",
        "import random\n",
        "from torch import nn\n",
        "from torch.nn.utils.rnn import pad_sequence\n",
        "from torch.utils.data import DataLoader\n",
        "from torchtext.vocab import build_vocab_from_iterator"
      ],
      "metadata": {
        "id": "Qoi6ZpV8r5VF"
      },
      "execution_count": 2,
      "outputs": []
    },
    {
      "cell_type": "markdown",
      "source": [
        "## Text Preprocessing"
      ],
      "metadata": {
        "id": "sp4u3ca3FhKy"
      }
    },
    {
      "cell_type": "code",
      "source": [
        "root_dir = 'drive/My Drive/assets/hin_eng.txt'"
      ],
      "metadata": {
        "id": "xYiuZXAhzTth"
      },
      "execution_count": 3,
      "outputs": []
    },
    {
      "cell_type": "code",
      "source": [
        "sentences = []\n",
        "with open(root_dir,'r') as file:\n",
        "  for line in file: \n",
        "    sentences.append(line.split('\\t')[:2])"
      ],
      "metadata": {
        "id": "2ZQF0acDs7N_"
      },
      "execution_count": 4,
      "outputs": []
    },
    {
      "cell_type": "code",
      "source": [
        "def tokenize_en(text):\n",
        "  tokenized = re.sub(r'[^\\w\\s+]',' ',text.lower())\n",
        "  return tokenized.split()\n",
        "\n",
        "def tokenize_hi(text):\n",
        "  tokenized = re.sub(r'[!#$%&()+,-./।:;\"<=>?[\\]^_`{|}~]',' ',text)\n",
        "  return tokenized.split()"
      ],
      "metadata": {
        "id": "MB2YGfhM_EqH"
      },
      "execution_count": 5,
      "outputs": []
    },
    {
      "cell_type": "code",
      "source": [
        "def yield_tokens(iterable,lang):\n",
        "  for en,hi in iterable:\n",
        "    if lang is 'en': yield tokenize_en(en)\n",
        "    else: yield tokenize_hi(hi)"
      ],
      "metadata": {
        "id": "iYo0HV0KIKQC"
      },
      "execution_count": 6,
      "outputs": []
    },
    {
      "cell_type": "code",
      "source": [
        "en_vocab = build_vocab_from_iterator(yield_tokens(sentences,'en'),min_freq=1,specials=[\"<unk>\",\"<pad>\",\"<bos>\",\"<eos>\"])\n",
        "en_vocab.set_default_index(0)\n",
        "\n",
        "hi_vocab = build_vocab_from_iterator(yield_tokens(sentences,'hi'),min_freq=1,specials=[\"<unk>\",\"<pad>\",\"<bos>\",\"<eos>\"])\n",
        "hi_vocab.set_default_index(0)"
      ],
      "metadata": {
        "id": "moh-O71vIzyF"
      },
      "execution_count": 7,
      "outputs": []
    },
    {
      "cell_type": "code",
      "source": [
        "print(\"en_vocab size: \",len(en_vocab))\n",
        "print(\"hi_vocab size: \",len(hi_vocab))"
      ],
      "metadata": {
        "colab": {
          "base_uri": "https://localhost:8080/"
        },
        "id": "GNEbybKKJTD5",
        "outputId": "72828aab-d7e0-4d0f-ccc7-d69ee448ec1c"
      },
      "execution_count": 8,
      "outputs": [
        {
          "output_type": "stream",
          "name": "stdout",
          "text": [
            "en_vocab size:  2358\n",
            "hi_vocab size:  2863\n"
          ]
        }
      ]
    },
    {
      "cell_type": "code",
      "source": [
        "en_pipeline = lambda x: en_vocab([\"<bos>\",*tokenize_en(x),\"<eos>\"])\n",
        "hi_pipeline = lambda x: hi_vocab([\"<bos>\",*tokenize_hi(x),\"<eos>\"])"
      ],
      "metadata": {
        "id": "g0M_ovllJY7S"
      },
      "execution_count": 9,
      "outputs": []
    },
    {
      "cell_type": "code",
      "source": [
        "def collate_batch(data_iter):\n",
        "  src,tgt_data,tgt_label = [],[],[]\n",
        "  device = torch.device('cuda' if torch.cuda.is_available() else 'cpu')\n",
        "\n",
        "  for x,y in data_iter:\n",
        "    src_encoded = en_pipeline(x)\n",
        "    src.append(torch.tensor(src_encoded,dtype=torch.int64,device=device))\n",
        "    tgt_encoded = hi_pipeline(y)\n",
        "    tgt_data.append(torch.tensor(tgt_encoded[:-1],dtype=torch.int64,device=device))\n",
        "    tgt_label.append(torch.tensor(tgt_encoded[1:],dtype=torch.int64,device=device))\n",
        "  \n",
        "  src = pad_sequence(src,batch_first=True,padding_value=1)\n",
        "  tgt_data = pad_sequence(tgt_data,batch_first=True,padding_value=1)\n",
        "  tgt_label = pad_sequence(tgt_label,batch_first=True,padding_value=1)\n",
        "  \n",
        "  return src.to(device), tgt_data.to(device), tgt_label.to(device)"
      ],
      "metadata": {
        "id": "4LhSt10RLQVH"
      },
      "execution_count": 10,
      "outputs": []
    },
    {
      "cell_type": "code",
      "source": [
        "torch.manual_seed(42)\n",
        "batch_size = 64\n",
        "\n",
        "train_dl = DataLoader(sentences,batch_size=batch_size,shuffle=True,collate_fn=collate_batch,drop_last=True)  "
      ],
      "metadata": {
        "id": "JEkJAQQVNxa7"
      },
      "execution_count": 11,
      "outputs": []
    },
    {
      "cell_type": "markdown",
      "source": [
        "## Model Definition"
      ],
      "metadata": {
        "id": "pyuNdrlYz_Uj"
      }
    },
    {
      "cell_type": "markdown",
      "source": [
        "![attention.PNG](data:image/png;base64,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)\n",
        "\n",
        "**Image Source**: [CS224n](https://web.stanford.edu/class/cs224n/slides/cs224n-2022-lecture07-nmt.pdf)"
      ],
      "metadata": {
        "id": "NYfO1dSSH4yT"
      }
    },
    {
      "cell_type": "code",
      "source": [
        "class Encoder(nn.Module):\n",
        "\n",
        "  def __init__(self,vocab_size,embed_dim,rnn_hidden_size):\n",
        "    super(Encoder,self).__init__()\n",
        "    self.embedding = nn.Embedding(vocab_size,embed_dim,padding_idx=1)\n",
        "    self.lstm = nn.LSTM(embed_dim,rnn_hidden_size,batch_first=True)\n",
        "\n",
        "  def forward(self,input):\n",
        "    \"\"\"\n",
        "    INPUT: [batch_size,len(english_sentence)]\n",
        "\n",
        "    IMPLCIT:\n",
        "      hidden: [1,batch_size,rnn_hidden_size]\n",
        "      cell: [1,batch_size,rnn_hidden_size]\n",
        "\n",
        "    OUTPUT:\n",
        "      out: [batch_size,len(english_sentence),rnn_hidden_size]\n",
        "      hidden: [1,batch_size,rnn_hidden_size]\n",
        "      cell: [1,batch_size,rnn_hidden_size]\n",
        "    \"\"\"\n",
        "    \n",
        "    ## out: [batch_size,len(english_sentence),embed_dim]\n",
        "    out = self.embedding(input)\n",
        "\n",
        "    ## out: [batch_size,len(english_sentence),rnn_hidden_size]\n",
        "    ## hidden: [1,batch_size,rnn_hidden_size]\n",
        "    ## cell: [1,batch_size,rnn_hidden_size]\n",
        "    out,(hidden,cell) = self.lstm(out)\n",
        "\n",
        "    return out,hidden,cell"
      ],
      "metadata": {
        "id": "npyQ37IDz806"
      },
      "execution_count": 12,
      "outputs": []
    },
    {
      "cell_type": "code",
      "source": [
        "class Decoder(nn.Module):\n",
        "\n",
        "  def __init__(self,vocab_size,embed_dim,rnn_hidden_size):      \n",
        "    super(Decoder,self).__init__()\n",
        "    self.embedding = nn.Embedding(vocab_size,embed_dim,padding_idx=1)\n",
        "    self.lstm = nn.LSTM(embed_dim,rnn_hidden_size,batch_first=True)\n",
        "    self.softmax = nn.Softmax(dim=1)\n",
        "    self.fc = nn.Linear(2*rnn_hidden_size,vocab_size)\n",
        "\n",
        "  def forward(self,input,hidden,cell,src_out):    \n",
        "    \"\"\"\n",
        "    INPUT: \n",
        "      input: [batch_size]\n",
        "      hidden: [1,batch_size,rnn_hidden_size]\n",
        "      cell: [1,batch_size,rnn_hidden_size]\n",
        "      src_out: [batch_size,len(english_sentence),rnn_hidden_size]\n",
        "\n",
        "    OUTPUT:\n",
        "       out: [batch_size,vocab_size]\n",
        "       hidden: [1,batch_size,rnn_hidden_size]\n",
        "       cell: [1,batch_size,rnn_hidden_size]\n",
        "    \"\"\"\n",
        "\n",
        "    ## out: [batch_size,1]\n",
        "    out = input.unsqueeze(1)\n",
        "\n",
        "     ## out: [batch_size,1,embed_dim]\n",
        "    out = self.embedding(out)\n",
        "\n",
        "    ## out: [batch_size,1,rnn_hidden_size]\n",
        "    ## hidden: [1,batch_size,rnn_hidden_size]\n",
        "    ## cell: [1,batch_size,rnn_hidden_size]\n",
        "    out,(hidden,cell) = self.lstm(out,(hidden,cell))\n",
        "\n",
        "    ## attn_score: [batch_size,len(english_sentence),1]\n",
        "    attn_score = torch.bmm(src_out,out.permute(0,2,1))\n",
        "\n",
        "    ## attn_dist: [batch_size,len(english_sentence),1]\n",
        "    attn_dist = self.softmax(attn_score)\n",
        "\n",
        "    ## attn_out: [batch_size,1,rnn_hidden_size]\n",
        "    attn_out = torch.bmm(attn_dist.permute(0,2,1),src_out)\n",
        "\n",
        "    ## attn_state: [batch_size, 2*rnn_hidden_size]\n",
        "    attn_state = torch.cat([out,attn_out],dim=2).squeeze(1)\n",
        "\n",
        "    ## out: [batch_size,vocab_size]\n",
        "    out = self.fc(attn_state)\n",
        "\n",
        "    return out,hidden,cell"
      ],
      "metadata": {
        "id": "TTf2IEsP9ze2"
      },
      "execution_count": 13,
      "outputs": []
    },
    {
      "cell_type": "code",
      "source": [
        "class seq2seq(nn.Module):\n",
        "\n",
        "  def __init__(self,encoder,decoder):\n",
        "    super(seq2seq,self).__init__()\n",
        "    self.encoder = encoder\n",
        "    self.decoder = decoder\n",
        "\n",
        "  def forward(self,src,tgt,teacher_force_ratio=0.5):\n",
        "    \"\"\"\n",
        "    INPUT:\n",
        "      src: [batch_size,len(english_sentence)]\n",
        "      tgt: [batch_size,len(hindi_sentence)]\n",
        "\n",
        "    OUTPUT:\n",
        "      output: [batch_size,len(hindi_sentence),hi_vocab_size]\n",
        "    \"\"\"\n",
        "    batch_size = tgt.shape[0]\n",
        "    tgt_len = tgt.shape[1]\n",
        "\n",
        "    output = torch.zeros(batch_size,tgt_len,hi_vocab_size).to(device)\n",
        "\n",
        "    ## src_out: [batch_size,len(hindi_sentence),rnn_hidden_size]\n",
        "    ## hidden: [1,batch_size,rnn_hidden_size]\n",
        "    ## cell: [1,batch_size,rnn_hidden_size]\n",
        "    src_out,hidden,cell = self.encoder(src)\n",
        "\n",
        "    ## x: [batch_size]\n",
        "    x = tgt[:,0]\n",
        "\n",
        "    for t in range(tgt_len):\n",
        "\n",
        "      ## out: [batch_size,vocab_size]\n",
        "      ## hidden: [batch_size,1,rnn_hidden_size]\n",
        "      ## cell: [batch_size,1,rnn_hidden_size]\n",
        "      out,hidden,cell = self.decoder(x,hidden,cell,src_out)\n",
        "\n",
        "      output[:,t,:] = out\n",
        "      best_guess = out.argmax(1)\n",
        "      x = tgt[:,t] if random.random() < teacher_force_ratio else best_guess   \n",
        "    \n",
        "    return output"
      ],
      "metadata": {
        "id": "7hcWpvm9_9fu"
      },
      "execution_count": 14,
      "outputs": []
    },
    {
      "cell_type": "markdown",
      "source": [
        "## Model Initialization"
      ],
      "metadata": {
        "id": "d3oYfE_oFzs0"
      }
    },
    {
      "cell_type": "code",
      "source": [
        "en_vocab_size = len(en_vocab)\n",
        "hi_vocab_size = len(hi_vocab)\n",
        "embed_dim = 1024\n",
        "rnn_hidden_dim = 512"
      ],
      "metadata": {
        "id": "6YrZjiplbHfP"
      },
      "execution_count": 15,
      "outputs": []
    },
    {
      "cell_type": "code",
      "source": [
        "device = torch.device('cuda' if torch.cuda.is_available() else 'cpu')\n",
        "encoder = Encoder(en_vocab_size,embed_dim,rnn_hidden_dim)\n",
        "decoder = Decoder(hi_vocab_size,embed_dim,rnn_hidden_dim)\n",
        "\n",
        "model = seq2seq(encoder,decoder).to(device)\n",
        "model"
      ],
      "metadata": {
        "id": "gVpXMGuJFy6e",
        "colab": {
          "base_uri": "https://localhost:8080/"
        },
        "outputId": "2d706f8d-eebd-42be-a2e5-24aa941b1e15"
      },
      "execution_count": 16,
      "outputs": [
        {
          "output_type": "execute_result",
          "data": {
            "text/plain": [
              "seq2seq(\n",
              "  (encoder): Encoder(\n",
              "    (embedding): Embedding(2358, 1024, padding_idx=1)\n",
              "    (lstm): LSTM(1024, 512, batch_first=True)\n",
              "  )\n",
              "  (decoder): Decoder(\n",
              "    (embedding): Embedding(2863, 1024, padding_idx=1)\n",
              "    (lstm): LSTM(1024, 512, batch_first=True)\n",
              "    (softmax): Softmax(dim=1)\n",
              "    (fc): Linear(in_features=1024, out_features=2863, bias=True)\n",
              "  )\n",
              ")"
            ]
          },
          "metadata": {},
          "execution_count": 16
        }
      ]
    },
    {
      "cell_type": "code",
      "source": [
        "def count_parameters(model):\n",
        "  return sum(param.numel() for param in model.parameters() if param.requires_grad)\n",
        "\n",
        "print(\"Number of trainable params in Encoder: {:,}\".format(count_parameters(encoder)))\n",
        "print(\"Number of trainable params in Decoder: {:,}\".format(count_parameters(decoder)))\n",
        "print(\"Number of trainable params in seq2seq: {:,}\".format(count_parameters(model)))"
      ],
      "metadata": {
        "colab": {
          "base_uri": "https://localhost:8080/"
        },
        "id": "--e07CX-fryB",
        "outputId": "258a759b-30c0-4728-bd03-240fbf6450e2"
      },
      "execution_count": 17,
      "outputs": [
        {
          "output_type": "stream",
          "name": "stdout",
          "text": [
            "Number of trainable params in Encoder: 5,564,416\n",
            "Number of trainable params in Decoder: 9,016,111\n",
            "Number of trainable params in seq2seq: 14,580,527\n"
          ]
        }
      ]
    },
    {
      "cell_type": "markdown",
      "source": [
        "## Model Training"
      ],
      "metadata": {
        "id": "CfQzSav0fHEm"
      }
    },
    {
      "cell_type": "code",
      "source": [
        "loss_fn = nn.CrossEntropyLoss()\n",
        "optimizer = torch.optim.Adam(model.parameters(),lr=0.001)"
      ],
      "metadata": {
        "id": "aG4d0DsXelk_"
      },
      "execution_count": 18,
      "outputs": []
    },
    {
      "cell_type": "code",
      "source": [
        "def train(data_iter):\n",
        "  model.train()\n",
        "  epoch_loss = 0.0\n",
        "\n",
        "  ## src: [batch_size,len(english_sentence)]\n",
        "  ## tgt_data: [batch_size,len(hindi_sentence)]\n",
        "  ## tgt_label: [batch_size,len(hindi_sentence)]\n",
        "  for src,tgt_data,tgt_label in data_iter:\n",
        "    optimizer.zero_grad()\n",
        "\n",
        "    ## seq_length: [len(hindi_sentence)]\n",
        "    seq_length = tgt_label.shape[1]\n",
        "\n",
        "    ## pred: [batch_size,len(hindi_sentence),hi_vocab_size]\n",
        "    pred = model(src,tgt_data)\n",
        "\n",
        "    ## pred: [batch_size*len(hindi_sentence),-1]\n",
        "    pred = pred.reshape(batch_size*seq_length,-1)\n",
        "\n",
        "    ## tgt_label: [batch_size*len(hindi_sentence)]\n",
        "    tgt_label = tgt_label.reshape(-1)\n",
        "\n",
        "    ## loss: [hi_vocab_Size]\n",
        "    loss = loss_fn(pred,tgt_label)\n",
        "\n",
        "    epoch_loss += loss.item()\n",
        "    loss.backward()\n",
        "    optimizer.step()\n",
        "  \n",
        "  return epoch_loss/len(data_iter)"
      ],
      "metadata": {
        "id": "vwD26_iyfaBQ"
      },
      "execution_count": 19,
      "outputs": []
    },
    {
      "cell_type": "code",
      "source": [
        "num_epochs = 20\n",
        "for epoch in range(num_epochs):\n",
        "  loss = train(train_dl)\n",
        "  print(\"EPOCH: {},    LOSS: {: .4f}\".format(epoch,loss))"
      ],
      "metadata": {
        "colab": {
          "base_uri": "https://localhost:8080/"
        },
        "id": "DFk8YQzZkjyW",
        "outputId": "805d00a7-410b-4b83-c108-5ace68eecb2f"
      },
      "execution_count": 27,
      "outputs": [
        {
          "output_type": "stream",
          "name": "stdout",
          "text": [
            "EPOCH: 0,    LOSS:  0.4416\n",
            "EPOCH: 1,    LOSS:  0.4301\n",
            "EPOCH: 2,    LOSS:  0.3991\n",
            "EPOCH: 3,    LOSS:  0.3637\n",
            "EPOCH: 4,    LOSS:  0.3431\n",
            "EPOCH: 5,    LOSS:  0.3297\n",
            "EPOCH: 6,    LOSS:  0.3287\n",
            "EPOCH: 7,    LOSS:  0.3120\n",
            "EPOCH: 8,    LOSS:  0.2856\n",
            "EPOCH: 9,    LOSS:  0.2909\n",
            "EPOCH: 10,    LOSS:  0.2820\n",
            "EPOCH: 11,    LOSS:  0.2658\n",
            "EPOCH: 12,    LOSS:  0.2530\n",
            "EPOCH: 13,    LOSS:  0.2418\n",
            "EPOCH: 14,    LOSS:  0.2256\n",
            "EPOCH: 15,    LOSS:  0.2194\n",
            "EPOCH: 16,    LOSS:  0.2300\n",
            "EPOCH: 17,    LOSS:  0.2288\n",
            "EPOCH: 18,    LOSS:  0.2105\n",
            "EPOCH: 19,    LOSS:  0.1961\n"
          ]
        }
      ]
    },
    {
      "cell_type": "markdown",
      "source": [
        "## Test Translation"
      ],
      "metadata": {
        "id": "iDQ_uMUgEbhz"
      }
    },
    {
      "cell_type": "code",
      "source": [
        "def translate(src):\n",
        "  model.eval()\n",
        "  src_tokenized = torch.tensor(en_pipeline(src),device=device).unsqueeze(0)\n",
        "\n",
        "  seed = [\"<bos>\"]\n",
        "  tgt_tokenized = hi_vocab(seed)\n",
        "  src_out, hidden, cell = encoder(src_tokenized)\n",
        "\n",
        "  with torch.no_grad():\n",
        "      while tgt_tokenized[-1] != 3 and len(tgt_tokenized) < 10:     \n",
        "        input = torch.tensor(tgt_tokenized[-1],device=device).unsqueeze(0)   \n",
        "        pred,hidden,cell = decoder(input,hidden,cell,src_out)\n",
        "        probs = torch.softmax(pred[0,:],dim=0)      \n",
        "        prediction = torch.multinomial(probs,num_samples=1).item()\n",
        "\n",
        "        if prediction in [0,1]:\n",
        "          continue\n",
        "        tgt_tokenized.append(prediction)\n",
        "\n",
        "  itos = hi_vocab.get_itos()\n",
        "  tokens = [itos[i] for i in tgt_tokenized]\n",
        "  return tokens"
      ],
      "metadata": {
        "id": "6XETX0NREaSx"
      },
      "execution_count": 28,
      "outputs": []
    },
    {
      "cell_type": "code",
      "source": [
        "torch.manual_seed(42)\n",
        "translate(\"Can I help you?\")"
      ],
      "metadata": {
        "colab": {
          "base_uri": "https://localhost:8080/"
        },
        "id": "JvoiPXxsJuyp",
        "outputId": "4798f619-5a2d-493c-8969-dce4ae6c2c44"
      },
      "execution_count": 30,
      "outputs": [
        {
          "output_type": "execute_result",
          "data": {
            "text/plain": [
              "['<bos>', 'क्या', 'मैं', 'आपकी', 'मदद', 'कर', 'सकता', 'हूँ', '<eos>']"
            ]
          },
          "metadata": {},
          "execution_count": 30
        }
      ]
    },
    {
      "cell_type": "code",
      "source": [
        "torch.manual_seed(42)\n",
        "translate(\"How did you come here?\")"
      ],
      "metadata": {
        "colab": {
          "base_uri": "https://localhost:8080/"
        },
        "id": "Mo9cCmyXJ2Lt",
        "outputId": "b0613754-fec3-41b4-d7f6-86c1c94c920f"
      },
      "execution_count": 31,
      "outputs": [
        {
          "output_type": "execute_result",
          "data": {
            "text/plain": [
              "['<bos>', 'यहाँ', 'यहाँ', 'से', 'क्यों', 'आए', '<eos>']"
            ]
          },
          "metadata": {},
          "execution_count": 31
        }
      ]
    },
    {
      "cell_type": "code",
      "source": [
        "torch.manual_seed(42)\n",
        "translate(\"I am going there to meet her\")"
      ],
      "metadata": {
        "colab": {
          "base_uri": "https://localhost:8080/"
        },
        "id": "G0FwnRxTKJm1",
        "outputId": "940405de-3d06-4b74-e2e0-1385e59bd85d"
      },
      "execution_count": 43,
      "outputs": [
        {
          "output_type": "execute_result",
          "data": {
            "text/plain": [
              "['<bos>', 'मैं', 'उससे', 'से', 'मिलना', 'ही', 'हूँ', '<eos>']"
            ]
          },
          "metadata": {},
          "execution_count": 43
        }
      ]
    }
  ]
}